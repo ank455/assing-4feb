{
 "cells": [
  {
   "cell_type": "code",
   "execution_count": 1,
   "id": "4e6d59ab-305d-493e-bd3c-61cc37d23c5b",
   "metadata": {},
   "outputs": [
    {
     "data": {
      "text/plain": [
       "[1, 4, 9, 16, 25, 36, 49, 64, 81, 100]"
      ]
     },
     "execution_count": 1,
     "metadata": {},
     "output_type": "execute_result"
    }
   ],
   "source": [
    "# ans 2\n",
    "\n",
    "l = [1,2,3,4,5,6,7,8,9,10]\n",
    "\n",
    "def sq(x):\n",
    "    return x ** 2\n",
    "list(map(sq , l))"
   ]
  },
  {
   "cell_type": "code",
   "execution_count": 9,
   "id": "19ea64f0-13a8-4068-b042-645c506aa8b4",
   "metadata": {},
   "outputs": [],
   "source": [
    "# Ans 5\n",
    "\n",
    "l = [2,3,6,9,27,60,90,120,55,46]\n",
    "\n",
    "a = list(filter(lambda x : (x % 2 == 0) , l ))\n",
    "\n",
    "\n",
    "b = list(filter(lambda x : (x % 3 == 0) , l ))"
   ]
  },
  {
   "cell_type": "code",
   "execution_count": 10,
   "id": "14a4def3-9749-4986-98e9-01153b7721e7",
   "metadata": {},
   "outputs": [
    {
     "name": "stdout",
     "output_type": "stream",
     "text": [
      "[2, 6, 60, 90, 120, 46] [3, 6, 9, 27, 60, 90, 120]\n"
     ]
    }
   ],
   "source": [
    "print(a , b)"
   ]
  },
  {
   "cell_type": "code",
   "execution_count": 22,
   "id": "b39ce499-b335-4b06-8381-e804fe4137a8",
   "metadata": {},
   "outputs": [
    {
     "name": "stdout",
     "output_type": "stream",
     "text": [
      "['php', 'aha', 'radar', 'level']\n"
     ]
    }
   ],
   "source": [
    "# Ans 6\n",
    "\n",
    "l = ['python' , 'php' , 'aha' , 'radar' , 'level']\n",
    "\n",
    "a = list(filter(lambda x : (x == \"\".join(reversed(x))) , l ))\n",
    "\n",
    "print(a)"
   ]
  },
  {
   "cell_type": "code",
   "execution_count": 37,
   "id": "490b6887-0630-4c6a-b17d-70d8cba3dc51",
   "metadata": {},
   "outputs": [
    {
     "name": "stdout",
     "output_type": "stream",
     "text": [
      "('1', '2', '3', '4', '5', '6', '7', '8', '9', '10')\n"
     ]
    }
   ],
   "source": [
    "# Ans 3\n",
    "Givenstring = ['1' ,'2', '3', '4', '5', '6', '7', '8', '9', '10']\n",
    "\n",
    "\n",
    "Output = tuple(map(lambda x: x, Givenstring))\n",
    "\n",
    "print(Output)\n"
   ]
  },
  {
   "cell_type": "code",
   "execution_count": 44,
   "id": "d4e01a20-9fc4-4926-b014-23f503b1a921",
   "metadata": {},
   "outputs": [
    {
     "name": "stdout",
     "output_type": "stream",
     "text": [
      "[('Virat Kohli', 24936), ('Jack Kallis', 25534), ('Ricky Ponting', 27483), ('Sachin Tendulkar', 34357)]\n"
     ]
    }
   ],
   "source": [
    "#ans 1\n",
    "\n",
    "A =[('Sachin Tendulkar', 34357), ('Ricky Ponting', 27483), ('Jack Kallis', 25534), ('Virat Kohli', 24936)]\n",
    "A.sort(key = lambda x: x[1])\n",
    "print(A)\n"
   ]
  },
  {
   "cell_type": "code",
   "execution_count": null,
   "id": "b8e8adb3-5ad8-4818-a5ee-12e8d9f4e47f",
   "metadata": {},
   "outputs": [],
   "source": []
  }
 ],
 "metadata": {
  "kernelspec": {
   "display_name": "Python 3 (ipykernel)",
   "language": "python",
   "name": "python3"
  },
  "language_info": {
   "codemirror_mode": {
    "name": "ipython",
    "version": 3
   },
   "file_extension": ".py",
   "mimetype": "text/x-python",
   "name": "python",
   "nbconvert_exporter": "python",
   "pygments_lexer": "ipython3",
   "version": "3.10.8"
  }
 },
 "nbformat": 4,
 "nbformat_minor": 5
}
